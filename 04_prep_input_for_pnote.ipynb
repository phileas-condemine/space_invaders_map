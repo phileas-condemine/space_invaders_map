{
 "cells": [
  {
   "cell_type": "code",
   "execution_count": null,
   "metadata": {},
   "outputs": [],
   "source": []
  },
  {
   "cell_type": "code",
   "execution_count": null,
   "metadata": {},
   "outputs": [],
   "source": [
    "import re\n",
    "import os\n",
    "file_names = os.listdir(\"phone_data/Pictures/\")\n",
    "pattern = r'([A-Z]+_+[0-9]+)'\n",
    "flashed = [re.search(pattern, file_name).group(0) for file_name in file_names if re.search(pattern, file_name)]\n",
    "flashed = list(set(flashed))\n",
    "flashed_str = '[\"' + '\",\"'.join(flashed) + '\"]'\n",
    "with open('data/flashed_raw.txt', 'w') as file:\n",
    "        file.write(flashed_str)\n",
    "\n"
   ]
  },
  {
   "cell_type": "code",
   "execution_count": null,
   "metadata": {},
   "outputs": [],
   "source": []
  },
  {
   "cell_type": "code",
   "execution_count": null,
   "metadata": {},
   "outputs": [],
   "source": []
  }
 ],
 "metadata": {
  "kernelspec": {
   "display_name": "Python 3",
   "language": "python",
   "name": "python3"
  },
  "language_info": {
   "codemirror_mode": {
    "name": "ipython",
    "version": 3
   },
   "file_extension": ".py",
   "mimetype": "text/x-python",
   "name": "python",
   "nbconvert_exporter": "python",
   "pygments_lexer": "ipython3",
   "version": "3.12.1"
  }
 },
 "nbformat": 4,
 "nbformat_minor": 2
}
